{
 "cells": [
  {
   "cell_type": "markdown",
   "metadata": {},
   "source": [
    "# 2020 Election - The Debunk went down to Georgia..."
   ]
  },
  {
   "cell_type": "markdown",
   "metadata": {},
   "source": [
    "This notebook is a quick response to a video from alleged Data Scientists claiming evidence of voter fraud in Georgia in the 2020 elections. Their beginning assertions raised some immediate red flags, which were easily illustrated using rudimentary plotting and aggregating with [data from previous presidential elections in 2004, 2008, and 2012 at the precinct level](https://dataverse.harvard.edu/dataset.xhtml?persistentId=hdl:1902.1/21919#).\n",
    "\n",
    "**Update - also included is [data from the 2016 presidential election](https://dataverse.harvard.edu/dataset.xhtml?persistentId=doi%3A10.7910%2FDVN%2FLYWX3D).\n",
    "\n",
    "This will be entirely useless and uninteresting outside of the context of debunking that specific claim but please forward it as needed if you need something quick to address that particular spread of misinformation. Feel free to expand upon it as needed."
   ]
  },
  {
   "cell_type": "markdown",
   "metadata": {},
   "source": [
    "Datasets accessed from:<br>\n",
    "Ansolabehere, Stephen; Palmer, Maxwell; Lee, Amanda, 2014, \"Precinct-Level Election Data\", https://doi.org/10.7910/DVN/YN4TLR, Harvard Dataverse, V1, UNF:5:5C9UfGjdLy2ONVPtgr45qA== [fileUNF]\n",
    "\n",
    "MIT Election Data and Science Lab, 2018, \"U.S. President Precinct-Level Returns 2016\", https://doi.org/10.7910/DVN/LYWX3D, Harvard Dataverse, V11, UNF:6:hQyVqHW+vTFnAW2jYIOy/Q== [fileUNF]"
   ]
  },
  {
   "cell_type": "code",
   "execution_count": 1,
   "metadata": {},
   "outputs": [],
   "source": [
    "import pandas as pd\n",
    "import numpy as np\n",
    "import seaborn as sns\n",
    "import matplotlib.pyplot as plt\n",
    "\n",
    "%matplotlib inline"
   ]
  },
  {
   "cell_type": "markdown",
   "metadata": {},
   "source": [
    "First the presidential election datasets from 2004, 2008, and 2012 are loaded"
   ]
  },
  {
   "cell_type": "code",
   "execution_count": 2,
   "metadata": {},
   "outputs": [
    {
     "name": "stderr",
     "output_type": "stream",
     "text": [
      "/opt/conda/envs/main/lib/python3.7/site-packages/IPython/core/interactiveshell.py:3146: DtypeWarning: Columns (13,17,19,31,32) have mixed types.Specify dtype option on import or set low_memory=False.\n",
      "  interactivity=interactivity, compiler=compiler, result=result)\n"
     ]
    },
    {
     "name": "stdout",
     "output_type": "stream",
     "text": [
      "There are  0  missing columns for 'candidate'\n",
      "0.19% Provisional ballots - Included\n",
      "0.54% Write in candidates - Excluded\n"
     ]
    }
   ],
   "source": [
    "#These names are for reducing the dataframe to only information about the presidential election.\n",
    "relevant_columns = [\"state\", \"year\", \"county\", \"precinct\", \"USP_tv\", \"USP_rv\", \"USP_dv\"]\n",
    "\n",
    "# Imports the original dataframes for each year and simplifies the column choices/names\n",
    "df2004 = pd.read_csv(\"GA_2004.tab\", delimiter=\"\\t\").rename(columns={\"g2004_USP_tv\":\"USP_tv\", \"g2004_USP_rv\":\"USP_rv\", \"g2004_USP_dv\":\"USP_dv\"})[relevant_columns]\n",
    "df2008 = pd.read_csv(\"GA_2008.tab\", delimiter=\"\\t\").rename(columns={\"g2008_USP_tv\":\"USP_tv\", \"g2008_USP_rv\":\"USP_rv\", \"g2008_USP_dv\":\"USP_dv\"})[relevant_columns]\n",
    "df2012 = pd.read_csv(\"GA_2012.tab\", delimiter=\"\\t\").rename(columns={\"g2012_USP_tv\":\"USP_tv\", \"g2012_USP_rv\":\"USP_rv\", \"g2012_USP_dv\":\"USP_dv\"})[relevant_columns]\n",
    "\n",
    "\n",
    "# The data for 2016 comes from a bigger dataset containing the entire nation's election results and additional columns. The following code standardizes it to match\n",
    "# the format of the other years\n",
    "df2016 = pd.read_csv(\"2016-precinct-president.tab\", delimiter=\"\\t\")\n",
    "# Including only Georgia and the columns that contain datapoints within it\n",
    "df2016 = df2016[df2016[\"state\"]==\"Georgia\"].dropna(axis=1, how=\"all\")\n",
    "# This is a check on the candidate column to check for missing values to ensure the correct columns are chosen in restructuring the dataframe format.\n",
    "print(\"There are \", df2016[\"candidate\"].isna().sum(), \" missing columns for 'candidate'\")\n",
    "# I chose not to exclude the provisional ballots in these counts. There is no reason to believe that these counts included the ones that may have been\n",
    "# exculded and they make up less than .2% of the total vote\n",
    "print(f'{df2016[df2016[\"mode\"]==\"provisional\"][\"votes\"].sum()/df2016[\"votes\"].sum()*100:.2f}% Provisional ballots - Included')\n",
    "# Reduces the columns to what is needed to match the structure of the other datasets.\n",
    "df2016 = df2016[[\"state\", \"year\", \"county_name\", \"precinct\", \"candidate\", \"votes\"]].rename(columns={\"county_name\":\"county\"})\n",
    "# Aggregates the totals within voting methods and pivots the candidates to a column instead of a row.\n",
    "df2016 = df2016.groupby([\"state\", \"year\", \"county\", \"precinct\", \"candidate\"]).sum().unstack(\"candidate\")[\"votes\"]\n",
    "# Calculates the total votes across all the candidates into a column matching the format of the other dataset\n",
    "df2016[\"USP_tv\"] = df2016.sum(axis=1)\n",
    "# Resets the index back while taking only the total vote counts and those for Democrats and Republicans.\n",
    "df2016 = df2016[[\"USP_tv\", \"Donald Trump\", \"Hillary Clinton\"]].rename(columns={\"Donald Trump\":\"USP_rv\", \"Hillary Clinton\":\"USP_dv\"}).reset_index()\n",
    "##There are a few write-in votes that are unattached to any precinct. They make up .5% of the vote and will be dropped from the totals.\n",
    "print(f'{df2016[df2016[\"precinct\"]==\"Write-ins\"][\"USP_tv\"].sum()/df2016[\"USP_tv\"].sum()*100:.2f}% Write in candidates - Excluded')\n",
    "df2016 = df2016[df2016[\"precinct\"]!=\"Write-ins\"]\n",
    "# Minor cleanup to match format of other datasets.\n",
    "df2016.columns.name = None\n",
    "\n",
    "# In 2012 Fulton County is named Fulton and is changed to match other years.\n",
    "df2012[\"county\"] = np.where(df2012[\"county\"]==\"Fulton\", \"Fulton County\", df2012[\"county\"])"
   ]
  },
  {
   "cell_type": "code",
   "execution_count": 3,
   "metadata": {},
   "outputs": [],
   "source": [
    "# Combines the data from the three years into a single dataframe\n",
    "df = pd.concat([df2004, df2008, df2012, df2016], ignore_index=True)"
   ]
  },
  {
   "cell_type": "markdown",
   "metadata": {},
   "source": [
    "## Unnuanced claim - \"Receiving 75% or more votes for a candidate in a precinct is 'abnormal'\""
   ]
  },
  {
   "cell_type": "markdown",
   "metadata": {},
   "source": [
    "% democrat = democratice votes/ total votes * 100<br>\n",
    "% republican = republican votes/ total votes * 100"
   ]
  },
  {
   "cell_type": "code",
   "execution_count": 4,
   "metadata": {},
   "outputs": [],
   "source": [
    "df[\"democratic_percentages\"] = df[\"USP_dv\"]/df[\"USP_tv\"] * 100\n",
    "df[\"republican_percentages\"] = df[\"USP_rv\"]/df[\"USP_tv\"] * 100"
   ]
  },
  {
   "cell_type": "markdown",
   "metadata": {},
   "source": [
    "In response to the assertion that \"receiving 75% or more votes for a candidate in a precinct is 'abnormal' a quick preview of the data shows that how easily this line of thinking falls apart. Immediately in the very the first few precincts in Appling County in 2004 there appears an overwhelming amount of republican votes. Voter demographics and values can vary widely depending on geographic location."
   ]
  },
  {
   "cell_type": "markdown",
   "metadata": {},
   "source": [
    "## Actual reality - It depends on the precinct"
   ]
  },
  {
   "cell_type": "code",
   "execution_count": 5,
   "metadata": {},
   "outputs": [
    {
     "data": {
      "text/html": [
       "<div>\n",
       "<style scoped>\n",
       "    .dataframe tbody tr th:only-of-type {\n",
       "        vertical-align: middle;\n",
       "    }\n",
       "\n",
       "    .dataframe tbody tr th {\n",
       "        vertical-align: top;\n",
       "    }\n",
       "\n",
       "    .dataframe thead th {\n",
       "        text-align: right;\n",
       "    }\n",
       "</style>\n",
       "<table border=\"1\" class=\"dataframe\">\n",
       "  <thead>\n",
       "    <tr style=\"text-align: right;\">\n",
       "      <th></th>\n",
       "      <th>state</th>\n",
       "      <th>year</th>\n",
       "      <th>county</th>\n",
       "      <th>precinct</th>\n",
       "      <th>USP_tv</th>\n",
       "      <th>USP_rv</th>\n",
       "      <th>USP_dv</th>\n",
       "      <th>democratic_percentages</th>\n",
       "      <th>republican_percentages</th>\n",
       "    </tr>\n",
       "  </thead>\n",
       "  <tbody>\n",
       "    <tr>\n",
       "      <th>0</th>\n",
       "      <td>GA</td>\n",
       "      <td>2004</td>\n",
       "      <td>Appling County</td>\n",
       "      <td>1-A</td>\n",
       "      <td>141.0</td>\n",
       "      <td>112.0</td>\n",
       "      <td>28.0</td>\n",
       "      <td>19.858156</td>\n",
       "      <td>79.432624</td>\n",
       "    </tr>\n",
       "    <tr>\n",
       "      <th>1</th>\n",
       "      <td>GA</td>\n",
       "      <td>2004</td>\n",
       "      <td>Appling County</td>\n",
       "      <td>1-A1</td>\n",
       "      <td>170.0</td>\n",
       "      <td>146.0</td>\n",
       "      <td>23.0</td>\n",
       "      <td>13.529412</td>\n",
       "      <td>85.882353</td>\n",
       "    </tr>\n",
       "    <tr>\n",
       "      <th>2</th>\n",
       "      <td>GA</td>\n",
       "      <td>2004</td>\n",
       "      <td>Appling County</td>\n",
       "      <td>1-B</td>\n",
       "      <td>531.0</td>\n",
       "      <td>388.0</td>\n",
       "      <td>140.0</td>\n",
       "      <td>26.365348</td>\n",
       "      <td>73.069680</td>\n",
       "    </tr>\n",
       "    <tr>\n",
       "      <th>3</th>\n",
       "      <td>GA</td>\n",
       "      <td>2004</td>\n",
       "      <td>Appling County</td>\n",
       "      <td>1-C</td>\n",
       "      <td>377.0</td>\n",
       "      <td>300.0</td>\n",
       "      <td>75.0</td>\n",
       "      <td>19.893899</td>\n",
       "      <td>79.575597</td>\n",
       "    </tr>\n",
       "    <tr>\n",
       "      <th>4</th>\n",
       "      <td>GA</td>\n",
       "      <td>2004</td>\n",
       "      <td>Appling County</td>\n",
       "      <td>1-D</td>\n",
       "      <td>64.0</td>\n",
       "      <td>47.0</td>\n",
       "      <td>17.0</td>\n",
       "      <td>26.562500</td>\n",
       "      <td>73.437500</td>\n",
       "    </tr>\n",
       "    <tr>\n",
       "      <th>5</th>\n",
       "      <td>GA</td>\n",
       "      <td>2004</td>\n",
       "      <td>Appling County</td>\n",
       "      <td>2</td>\n",
       "      <td>782.0</td>\n",
       "      <td>305.0</td>\n",
       "      <td>471.0</td>\n",
       "      <td>60.230179</td>\n",
       "      <td>39.002558</td>\n",
       "    </tr>\n",
       "    <tr>\n",
       "      <th>6</th>\n",
       "      <td>GA</td>\n",
       "      <td>2004</td>\n",
       "      <td>Appling County</td>\n",
       "      <td>3-A</td>\n",
       "      <td>158.0</td>\n",
       "      <td>142.0</td>\n",
       "      <td>16.0</td>\n",
       "      <td>10.126582</td>\n",
       "      <td>89.873418</td>\n",
       "    </tr>\n",
       "    <tr>\n",
       "      <th>7</th>\n",
       "      <td>GA</td>\n",
       "      <td>2004</td>\n",
       "      <td>Appling County</td>\n",
       "      <td>3-B</td>\n",
       "      <td>193.0</td>\n",
       "      <td>101.0</td>\n",
       "      <td>90.0</td>\n",
       "      <td>46.632124</td>\n",
       "      <td>52.331606</td>\n",
       "    </tr>\n",
       "    <tr>\n",
       "      <th>8</th>\n",
       "      <td>GA</td>\n",
       "      <td>2004</td>\n",
       "      <td>Appling County</td>\n",
       "      <td>3-C</td>\n",
       "      <td>625.0</td>\n",
       "      <td>441.0</td>\n",
       "      <td>179.0</td>\n",
       "      <td>28.640000</td>\n",
       "      <td>70.560000</td>\n",
       "    </tr>\n",
       "    <tr>\n",
       "      <th>9</th>\n",
       "      <td>GA</td>\n",
       "      <td>2004</td>\n",
       "      <td>Appling County</td>\n",
       "      <td>4-A</td>\n",
       "      <td>216.0</td>\n",
       "      <td>186.0</td>\n",
       "      <td>29.0</td>\n",
       "      <td>13.425926</td>\n",
       "      <td>86.111111</td>\n",
       "    </tr>\n",
       "  </tbody>\n",
       "</table>\n",
       "</div>"
      ],
      "text/plain": [
       "  state  year          county precinct  USP_tv  USP_rv  USP_dv  \\\n",
       "0    GA  2004  Appling County      1-A   141.0   112.0    28.0   \n",
       "1    GA  2004  Appling County     1-A1   170.0   146.0    23.0   \n",
       "2    GA  2004  Appling County      1-B   531.0   388.0   140.0   \n",
       "3    GA  2004  Appling County      1-C   377.0   300.0    75.0   \n",
       "4    GA  2004  Appling County      1-D    64.0    47.0    17.0   \n",
       "5    GA  2004  Appling County        2   782.0   305.0   471.0   \n",
       "6    GA  2004  Appling County      3-A   158.0   142.0    16.0   \n",
       "7    GA  2004  Appling County      3-B   193.0   101.0    90.0   \n",
       "8    GA  2004  Appling County      3-C   625.0   441.0   179.0   \n",
       "9    GA  2004  Appling County      4-A   216.0   186.0    29.0   \n",
       "\n",
       "   democratic_percentages  republican_percentages  \n",
       "0               19.858156               79.432624  \n",
       "1               13.529412               85.882353  \n",
       "2               26.365348               73.069680  \n",
       "3               19.893899               79.575597  \n",
       "4               26.562500               73.437500  \n",
       "5               60.230179               39.002558  \n",
       "6               10.126582               89.873418  \n",
       "7               46.632124               52.331606  \n",
       "8               28.640000               70.560000  \n",
       "9               13.425926               86.111111  "
      ]
     },
     "execution_count": 5,
     "metadata": {},
     "output_type": "execute_result"
    }
   ],
   "source": [
    "df.head(10)"
   ]
  },
  {
   "cell_type": "markdown",
   "metadata": {},
   "source": [
    "To gain more insight about Fulton County, we can plot a density plot for each year that will guage the percentages of demographic votes in each precinct."
   ]
  },
  {
   "cell_type": "code",
   "execution_count": 6,
   "metadata": {},
   "outputs": [],
   "source": [
    "# Reducing the data to Fulton County\n",
    "fulton = df[df[\"county\"]==\"Fulton County\"].copy()\n",
    "fulton2004 = fulton[fulton[\"year\"]==2004]\n",
    "fulton2008 = fulton[fulton[\"year\"]==2008]\n",
    "fulton2012 = fulton[fulton[\"year\"]==2012]\n",
    "fulton2016 = fulton[fulton[\"year\"]==2016]"
   ]
  },
  {
   "cell_type": "code",
   "execution_count": 7,
   "metadata": {},
   "outputs": [
    {
     "data": {
      "image/png": "[encoded data removed]",
      "text/plain": [
       "<Figure size 1008x504 with 4 Axes>"
      ]
     },
     "metadata": {
      "needs_background": "light"
     },
     "output_type": "display_data"
    }
   ],
   "source": [
    "fig, (ax1, ax2, ax3, ax4) = plt.subplots(nrows=4, ncols=1,figsize=(14,7))\n",
    "sns.distplot(fulton2004[\"democratic_percentages\"], ax=ax1)\n",
    "sns.distplot(fulton2008[\"democratic_percentages\"], ax=ax2)\n",
    "sns.distplot(fulton2012[\"democratic_percentages\"], ax=ax3)\n",
    "sns.distplot(fulton2016[\"democratic_percentages\"], ax=ax4)\n",
    "plt.show()"
   ]
  },
  {
   "cell_type": "markdown",
   "metadata": {},
   "source": [
    "It is already apparent that a heavy Democratic skew is normal for this county (as most metropolitan areas tend to have), but it would benefit to match the groups set up in the video to unveil the true lack of statistical knowledge in the contested assertions."
   ]
  },
  {
   "cell_type": "code",
   "execution_count": 8,
   "metadata": {},
   "outputs": [],
   "source": [
    "def bin_percentages(percentage):\n",
    "    \"\"\"This maps the percentages of Democratic votes several defined groups for comparison.\"\"\"\n",
    "    \n",
    "    if percentage >= 96:\n",
    "        group = \"96-100%\"\n",
    "    elif percentage >= 95:\n",
    "        group = \"95%\"\n",
    "    elif percentage >= 94:\n",
    "        group = \"94%\"\n",
    "    # Really should be 90 - 94%, but mimicking the faulty naming conventions of the presentation.\n",
    "    elif percentage >= 90:\n",
    "         group = \"90-93%\"\n",
    "    else:\n",
    "        group = \"Under 90%\"\n",
    "        \n",
    "    return group\n",
    "\n",
    "def precincts_over_percent(percentage, percent_value=90):\n",
    "    \"\"\"returns a one when a precinct percentage matches a specific threshold, and a zero if it does not.\"\"\"\n",
    "    if percentage >= percent_value:\n",
    "        return 1\n",
    "    else:\n",
    "        return 0"
   ]
  },
  {
   "cell_type": "code",
   "execution_count": 9,
   "metadata": {},
   "outputs": [],
   "source": [
    "fulton[\"dem_percent bins\"] = fulton[\"democratic_percentages\"].map(bin_percentages)\n",
    "fulton[\"over_90%\"] = fulton[\"democratic_percentages\"].map(precincts_over_percent)"
   ]
  },
  {
   "cell_type": "code",
   "execution_count": 10,
   "metadata": {},
   "outputs": [
    {
     "data": {
      "text/html": [
       "<div>\n",
       "<style scoped>\n",
       "    .dataframe tbody tr th:only-of-type {\n",
       "        vertical-align: middle;\n",
       "    }\n",
       "\n",
       "    .dataframe tbody tr th {\n",
       "        vertical-align: top;\n",
       "    }\n",
       "\n",
       "    .dataframe thead th {\n",
       "        text-align: right;\n",
       "    }\n",
       "</style>\n",
       "<table border=\"1\" class=\"dataframe\">\n",
       "  <thead>\n",
       "    <tr style=\"text-align: right;\">\n",
       "      <th></th>\n",
       "      <th>dem_percent bins</th>\n",
       "      <th>year</th>\n",
       "      <th>precinct_count</th>\n",
       "      <th>total_precincts</th>\n",
       "      <th>precincts_over_90%</th>\n",
       "      <th>percentage</th>\n",
       "    </tr>\n",
       "  </thead>\n",
       "  <tbody>\n",
       "    <tr>\n",
       "      <th>0</th>\n",
       "      <td>Under 90%</td>\n",
       "      <td>2004</td>\n",
       "      <td>223</td>\n",
       "      <td>336</td>\n",
       "      <td>336</td>\n",
       "      <td>66.369048</td>\n",
       "    </tr>\n",
       "    <tr>\n",
       "      <th>4</th>\n",
       "      <td>90-93%</td>\n",
       "      <td>2004</td>\n",
       "      <td>44</td>\n",
       "      <td>336</td>\n",
       "      <td>336</td>\n",
       "      <td>13.095238</td>\n",
       "    </tr>\n",
       "    <tr>\n",
       "      <th>8</th>\n",
       "      <td>94%</td>\n",
       "      <td>2004</td>\n",
       "      <td>30</td>\n",
       "      <td>336</td>\n",
       "      <td>336</td>\n",
       "      <td>8.928571</td>\n",
       "    </tr>\n",
       "    <tr>\n",
       "      <th>12</th>\n",
       "      <td>95%</td>\n",
       "      <td>2004</td>\n",
       "      <td>25</td>\n",
       "      <td>336</td>\n",
       "      <td>336</td>\n",
       "      <td>7.440476</td>\n",
       "    </tr>\n",
       "    <tr>\n",
       "      <th>16</th>\n",
       "      <td>96-100%</td>\n",
       "      <td>2004</td>\n",
       "      <td>14</td>\n",
       "      <td>336</td>\n",
       "      <td>336</td>\n",
       "      <td>4.166667</td>\n",
       "    </tr>\n",
       "    <tr>\n",
       "      <th>1</th>\n",
       "      <td>Under 90%</td>\n",
       "      <td>2008</td>\n",
       "      <td>206</td>\n",
       "      <td>339</td>\n",
       "      <td>339</td>\n",
       "      <td>60.766962</td>\n",
       "    </tr>\n",
       "    <tr>\n",
       "      <th>5</th>\n",
       "      <td>90-93%</td>\n",
       "      <td>2008</td>\n",
       "      <td>18</td>\n",
       "      <td>339</td>\n",
       "      <td>339</td>\n",
       "      <td>5.309735</td>\n",
       "    </tr>\n",
       "    <tr>\n",
       "      <th>9</th>\n",
       "      <td>94%</td>\n",
       "      <td>2008</td>\n",
       "      <td>5</td>\n",
       "      <td>339</td>\n",
       "      <td>339</td>\n",
       "      <td>1.474926</td>\n",
       "    </tr>\n",
       "    <tr>\n",
       "      <th>13</th>\n",
       "      <td>95%</td>\n",
       "      <td>2008</td>\n",
       "      <td>11</td>\n",
       "      <td>339</td>\n",
       "      <td>339</td>\n",
       "      <td>3.244838</td>\n",
       "    </tr>\n",
       "    <tr>\n",
       "      <th>17</th>\n",
       "      <td>96-100%</td>\n",
       "      <td>2008</td>\n",
       "      <td>99</td>\n",
       "      <td>339</td>\n",
       "      <td>339</td>\n",
       "      <td>29.203540</td>\n",
       "    </tr>\n",
       "    <tr>\n",
       "      <th>2</th>\n",
       "      <td>Under 90%</td>\n",
       "      <td>2012</td>\n",
       "      <td>203</td>\n",
       "      <td>352</td>\n",
       "      <td>352</td>\n",
       "      <td>57.670455</td>\n",
       "    </tr>\n",
       "    <tr>\n",
       "      <th>6</th>\n",
       "      <td>90-93%</td>\n",
       "      <td>2012</td>\n",
       "      <td>13</td>\n",
       "      <td>352</td>\n",
       "      <td>352</td>\n",
       "      <td>3.693182</td>\n",
       "    </tr>\n",
       "    <tr>\n",
       "      <th>10</th>\n",
       "      <td>94%</td>\n",
       "      <td>2012</td>\n",
       "      <td>7</td>\n",
       "      <td>352</td>\n",
       "      <td>352</td>\n",
       "      <td>1.988636</td>\n",
       "    </tr>\n",
       "    <tr>\n",
       "      <th>14</th>\n",
       "      <td>95%</td>\n",
       "      <td>2012</td>\n",
       "      <td>12</td>\n",
       "      <td>352</td>\n",
       "      <td>352</td>\n",
       "      <td>3.409091</td>\n",
       "    </tr>\n",
       "    <tr>\n",
       "      <th>18</th>\n",
       "      <td>96-100%</td>\n",
       "      <td>2012</td>\n",
       "      <td>117</td>\n",
       "      <td>352</td>\n",
       "      <td>352</td>\n",
       "      <td>33.238636</td>\n",
       "    </tr>\n",
       "    <tr>\n",
       "      <th>3</th>\n",
       "      <td>Under 90%</td>\n",
       "      <td>2016</td>\n",
       "      <td>209</td>\n",
       "      <td>346</td>\n",
       "      <td>346</td>\n",
       "      <td>60.404624</td>\n",
       "    </tr>\n",
       "    <tr>\n",
       "      <th>7</th>\n",
       "      <td>90-93%</td>\n",
       "      <td>2016</td>\n",
       "      <td>23</td>\n",
       "      <td>346</td>\n",
       "      <td>346</td>\n",
       "      <td>6.647399</td>\n",
       "    </tr>\n",
       "    <tr>\n",
       "      <th>11</th>\n",
       "      <td>94%</td>\n",
       "      <td>2016</td>\n",
       "      <td>15</td>\n",
       "      <td>346</td>\n",
       "      <td>346</td>\n",
       "      <td>4.335260</td>\n",
       "    </tr>\n",
       "    <tr>\n",
       "      <th>15</th>\n",
       "      <td>95%</td>\n",
       "      <td>2016</td>\n",
       "      <td>32</td>\n",
       "      <td>346</td>\n",
       "      <td>346</td>\n",
       "      <td>9.248555</td>\n",
       "    </tr>\n",
       "    <tr>\n",
       "      <th>19</th>\n",
       "      <td>96-100%</td>\n",
       "      <td>2016</td>\n",
       "      <td>67</td>\n",
       "      <td>346</td>\n",
       "      <td>346</td>\n",
       "      <td>19.364162</td>\n",
       "    </tr>\n",
       "  </tbody>\n",
       "</table>\n",
       "</div>"
      ],
      "text/plain": [
       "   dem_percent bins  year  precinct_count  total_precincts  \\\n",
       "0         Under 90%  2004             223              336   \n",
       "4            90-93%  2004              44              336   \n",
       "8               94%  2004              30              336   \n",
       "12              95%  2004              25              336   \n",
       "16          96-100%  2004              14              336   \n",
       "1         Under 90%  2008             206              339   \n",
       "5            90-93%  2008              18              339   \n",
       "9               94%  2008               5              339   \n",
       "13              95%  2008              11              339   \n",
       "17          96-100%  2008              99              339   \n",
       "2         Under 90%  2012             203              352   \n",
       "6            90-93%  2012              13              352   \n",
       "10              94%  2012               7              352   \n",
       "14              95%  2012              12              352   \n",
       "18          96-100%  2012             117              352   \n",
       "3         Under 90%  2016             209              346   \n",
       "7            90-93%  2016              23              346   \n",
       "11              94%  2016              15              346   \n",
       "15              95%  2016              32              346   \n",
       "19          96-100%  2016              67              346   \n",
       "\n",
       "    precincts_over_90%  percentage  \n",
       "0                  336   66.369048  \n",
       "4                  336   13.095238  \n",
       "8                  336    8.928571  \n",
       "12                 336    7.440476  \n",
       "16                 336    4.166667  \n",
       "1                  339   60.766962  \n",
       "5                  339    5.309735  \n",
       "9                  339    1.474926  \n",
       "13                 339    3.244838  \n",
       "17                 339   29.203540  \n",
       "2                  352   57.670455  \n",
       "6                  352    3.693182  \n",
       "10                 352    1.988636  \n",
       "14                 352    3.409091  \n",
       "18                 352   33.238636  \n",
       "3                  346   60.404624  \n",
       "7                  346    6.647399  \n",
       "11                 346    4.335260  \n",
       "15                 346    9.248555  \n",
       "19                 346   19.364162  "
      ]
     },
     "execution_count": 10,
     "metadata": {},
     "output_type": "execute_result"
    }
   ],
   "source": [
    "# Counts the number of precincts that fall into each category.\n",
    "precinct_count = fulton.groupby([\"year\", \"dem_percent bins\"]).count()[[\"precinct\"]].rename(columns={\"precinct\":\"precinct_count\"}).reset_index()\n",
    "\n",
    "# Organization to the order of the categories.\n",
    "bin_order = [\"Under 90%\", \"90-93%\", \"94%\", \"95%\", \"96-100%\"]\n",
    "precinct_count = precinct_count.set_index(\"dem_percent bins\").loc[bin_order].reset_index()\n",
    "precinct_count = precinct_count.sort_values(\"year\", kind= \"stable\")\n",
    "\n",
    "# Creates totals to aggregate percentages.\n",
    "total_precincts = precinct_count.groupby(\"year\")[\"precinct_count\"].sum().rename(\"total_precincts\")\n",
    "precinct_count = precinct_count.join(total_precincts, on=\"year\", how=\"left\")\n",
    "precinct_count[\"precincts_over_90%\"] = precinct_count[\"total_precincts\"]\n",
    "\n",
    "# Creates a percentage from the counts and the totals\n",
    "precinct_count[\"percentage\"] = precinct_count[\"precinct_count\"]/precinct_count[\"total_precincts\"]*100\n",
    "precinct_count"
   ]
  },
  {
   "cell_type": "code",
   "execution_count": 11,
   "metadata": {},
   "outputs": [],
   "source": [
    "precincts_over_90 = fulton.groupby([\"year\", \"over_90%\"])[[\"precinct\", \"USP_dv\"]].agg([\"count\", \"sum\"]).rename(columns={\"precinct\":\"precinct_count\"}).reset_index()"
   ]
  },
  {
   "cell_type": "code",
   "execution_count": 12,
   "metadata": {},
   "outputs": [
    {
     "data": {
      "image/png": "[encoded data removed]",
      "text/plain": [
       "<Figure size 864x576 with 1 Axes>"
      ]
     },
     "metadata": {
      "needs_background": "light"
     },
     "output_type": "display_data"
    }
   ],
   "source": [
    "plt.figure(figsize=(12,8))\n",
    "sns.barplot(x=\"dem_percent bins\", y=\"precinct_count\", hue=\"year\", data=precinct_count)\n",
    "plt.show()"
   ]
  },
  {
   "cell_type": "markdown",
   "metadata": {},
   "source": [
    "When viewed in terms of percentages, it appears that the Fulton precinct may be getting bluer, but realistically there are too many other variables (different candidates, public approval), to be able to even think about saying with any degree of certainty using only this dataset."
   ]
  },
  {
   "cell_type": "code",
   "execution_count": 13,
   "metadata": {},
   "outputs": [
    {
     "data": {
      "image/png": "[encoded data removed]",
      "text/plain": [
       "<Figure size 864x576 with 1 Axes>"
      ]
     },
     "metadata": {
      "needs_background": "light"
     },
     "output_type": "display_data"
    }
   ],
   "source": [
    "plt.figure(figsize=(12,8))\n",
    "sns.barplot(x=\"dem_percent bins\", y=\"percentage\", hue=\"year\", data=precinct_count)\n",
    "plt.show()"
   ]
  },
  {
   "cell_type": "markdown",
   "metadata": {},
   "source": [
    "Finally the the counts above 90% are aggregated to compare with the results of 2020 to and show the absurdity of claiming that 150,000 votes across 150 precincts with over 90% votes for the democratic party to be coherent \"evidence\" of voter fraud. 2020 was an extremely polarizing election that brought out record turnout of voters. With just a few very basic aggregations, the accusation that the Fulton precinct was highly unlikely to those results legitimately, appears to be no more than sloppy conjecture."
   ]
  },
  {
   "cell_type": "code",
   "execution_count": 14,
   "metadata": {},
   "outputs": [
    {
     "data": {
      "text/html": [
       "<div>\n",
       "<style scoped>\n",
       "    .dataframe tbody tr th:only-of-type {\n",
       "        vertical-align: middle;\n",
       "    }\n",
       "\n",
       "    .dataframe tbody tr th {\n",
       "        vertical-align: top;\n",
       "    }\n",
       "\n",
       "    .dataframe thead th {\n",
       "        text-align: right;\n",
       "    }\n",
       "</style>\n",
       "<table border=\"1\" class=\"dataframe\">\n",
       "  <thead>\n",
       "    <tr style=\"text-align: right;\">\n",
       "      <th></th>\n",
       "      <th>precincts_over_90%</th>\n",
       "      <th>democratic_votes</th>\n",
       "    </tr>\n",
       "    <tr>\n",
       "      <th>year</th>\n",
       "      <th></th>\n",
       "      <th></th>\n",
       "    </tr>\n",
       "  </thead>\n",
       "  <tbody>\n",
       "    <tr>\n",
       "      <th>2004</th>\n",
       "      <td>113</td>\n",
       "      <td>72837.0</td>\n",
       "    </tr>\n",
       "    <tr>\n",
       "      <th>2008</th>\n",
       "      <td>133</td>\n",
       "      <td>59731.0</td>\n",
       "    </tr>\n",
       "    <tr>\n",
       "      <th>2012</th>\n",
       "      <td>149</td>\n",
       "      <td>133489.0</td>\n",
       "    </tr>\n",
       "    <tr>\n",
       "      <th>2016</th>\n",
       "      <td>137</td>\n",
       "      <td>124983.0</td>\n",
       "    </tr>\n",
       "  </tbody>\n",
       "</table>\n",
       "</div>"
      ],
      "text/plain": [
       "      precincts_over_90%  democratic_votes\n",
       "year                                      \n",
       "2004                 113           72837.0\n",
       "2008                 133           59731.0\n",
       "2012                 149          133489.0\n",
       "2016                 137          124983.0"
      ]
     },
     "execution_count": 14,
     "metadata": {},
     "output_type": "execute_result"
    }
   ],
   "source": [
    "precincts_over_90 = fulton[fulton[\"democratic_percentages\"]>=90]\n",
    "precincts_over_90.groupby(\"year\")[[\"precinct\", \"USP_dv\"]].agg({\"precinct\":\"count\", \"USP_dv\":\"sum\"}).rename(columns={\"precinct\":\"precincts_over_90%\", \"USP_dv\":\"democratic_votes\"})"
   ]
  },
  {
   "cell_type": "markdown",
   "metadata": {},
   "source": [
    "The later assertions in that video will be unaddressed. Practically speaking, the growing tendency to overwhelm people's patience for public discourse with dubious \"facts\", is a dangerous trend. Quality matters is essential and trying to fill that void by overcompensating with quantity instead makes one's tactics no better than a devout adherent to the Flat Earth movement.\n",
    "\n",
    "While saying nothing allows the pursuit of ignorance to continue unhindered, saying too much makes it impossible to practically get anything done. I am not familiar enough with the voting tabulation process to want to take on the project of the later claims made in the presentation. However, what has been said should be sufficient as it is very telling of the \"statistical rigor\" when the very first claim made is a distortion of reality. That may be all that is necessary in making a snap judgment for all practical purposes, but if anyone else has access to more data on hand and has the time to offer in investigating/debunking the rest of it I would welcome collaborators."
   ]
  },
  {
   "cell_type": "code",
   "execution_count": null,
   "metadata": {},
   "outputs": [],
   "source": []
  }
 ],
 "metadata": {
  "kernelspec": {
   "display_name": "Python 3.7 (main)",
   "language": "python",
   "name": "main"
  },
  "language_info": {
   "codemirror_mode": {
    "name": "ipython",
    "version": 3
   },
   "file_extension": ".py",
   "mimetype": "text/x-python",
   "name": "python",
   "nbconvert_exporter": "python",
   "pygments_lexer": "ipython3",
   "version": "3.7.8"
  }
 },
 "nbformat": 4,
 "nbformat_minor": 4
}
